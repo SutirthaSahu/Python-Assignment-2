{
 "cells": [
  {
   "cell_type": "code",
   "execution_count": 5,
   "metadata": {},
   "outputs": [
    {
     "name": "stdout",
     "output_type": "stream",
     "text": [
      "*\n",
      "**\n",
      "***\n",
      "****\n",
      "*****\n",
      "****\n",
      "***\n",
      "**\n",
      "*\n",
      "\n"
     ]
    }
   ],
   "source": [
    "k = 1\n",
    "for i in range(0,5):\n",
    "    for j in range(0,k):\n",
    "        print(\"*\",end=\"\")\n",
    "    k=k+1\n",
    "    print()\n",
    "\n",
    "k=4\n",
    "for i in range(0,5):\n",
    "    for j in range(0,k):\n",
    "        print(\"*\",end=\"\")\n",
    "    k=k-1\n",
    "    print()"
   ]
  },
  {
   "cell_type": "code",
   "execution_count": 21,
   "metadata": {},
   "outputs": [
    {
     "name": "stdout",
     "output_type": "stream",
     "text": [
      "Input word :ineuron\n",
      "Output : norueni\n"
     ]
    }
   ],
   "source": [
    "userInput = input(\"Input word :\")\n",
    "reverseInput = userInput[::-1]\n",
    "print(\"Output :\", reverseInput)"
   ]
  },
  {
   "cell_type": "code",
   "execution_count": 22,
   "metadata": {},
   "outputs": [
    {
     "name": "stdout",
     "output_type": "stream",
     "text": [
      "Input word :ineuron\n",
      "Output : norueni\n"
     ]
    }
   ],
   "source": [
    "def reverse_string(userInput):\n",
    "    reverseString = \"\"\n",
    "    for a in userInput:\n",
    "        reverseString = a + reverseString\n",
    "    return reverseString\n",
    "    \n",
    "userInput = input(\"Input word :\")\n",
    "print(\"Output :\" ,reverse_string(userInput))\n"
   ]
  },
  {
   "cell_type": "code",
   "execution_count": null,
   "metadata": {},
   "outputs": [],
   "source": []
  },
  {
   "cell_type": "code",
   "execution_count": null,
   "metadata": {},
   "outputs": [],
   "source": []
  }
 ],
 "metadata": {
  "kernelspec": {
   "display_name": "Python 3",
   "language": "python",
   "name": "python3"
  },
  "language_info": {
   "codemirror_mode": {
    "name": "ipython",
    "version": 3
   },
   "file_extension": ".py",
   "mimetype": "text/x-python",
   "name": "python",
   "nbconvert_exporter": "python",
   "pygments_lexer": "ipython3",
   "version": "3.7.1"
  }
 },
 "nbformat": 4,
 "nbformat_minor": 2
}
